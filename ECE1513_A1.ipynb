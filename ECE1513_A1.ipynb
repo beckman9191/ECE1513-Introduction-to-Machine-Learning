{
  "nbformat": 4,
  "nbformat_minor": 0,
  "metadata": {
    "colab": {
      "provenance": [],
      "authorship_tag": "ABX9TyO8fPd7uFKMSJngilxQkf5n",
      "include_colab_link": true
    },
    "kernelspec": {
      "name": "python3",
      "display_name": "Python 3"
    },
    "language_info": {
      "name": "python"
    }
  },
  "cells": [
    {
      "cell_type": "markdown",
      "metadata": {
        "id": "view-in-github",
        "colab_type": "text"
      },
      "source": [
        "<a href=\"https://colab.research.google.com/github/beckman9191/ECE1513-Introduction-to-Machine-Learning/blob/main/ECE1513_A1.ipynb\" target=\"_parent\"><img src=\"https://colab.research.google.com/assets/colab-badge.svg\" alt=\"Open In Colab\"/></a>"
      ]
    },
    {
      "cell_type": "code",
      "source": [
        "#Make a directory named kaggle and copy the kaggle.json file there.\n",
        "!mkdir -p ~/.kaggle\n",
        "!cp kaggle.json ~/.kaggle/\n",
        "# change the permission of the file\n",
        "!chmod 600 ~/.kaggle/kaggle.json"
      ],
      "metadata": {
        "id": "PBSRxXwSP2xb"
      },
      "execution_count": null,
      "outputs": []
    },
    {
      "cell_type": "code",
      "source": [
        "!kaggle datasets download -d uciml/indian-liver-patient-records"
      ],
      "metadata": {
        "colab": {
          "base_uri": "https://localhost:8080/"
        },
        "id": "GbHYKmaTQ6X7",
        "outputId": "64085a87-78d5-4dac-8a7d-95cf6d16ef83"
      },
      "execution_count": null,
      "outputs": [
        {
          "output_type": "stream",
          "name": "stdout",
          "text": [
            "indian-liver-patient-records.zip: Skipping, found more recently modified local copy (use --force to force download)\n"
          ]
        }
      ]
    },
    {
      "cell_type": "code",
      "source": [
        "from zipfile import ZipFile\n",
        "file_name = 'indian-liver-patient-records.zip' #the file is your dataset exact name\n",
        "with ZipFile(file_name, 'r') as zip:\n",
        "  zip.extractall()\n",
        "  print('Done')"
      ],
      "metadata": {
        "colab": {
          "base_uri": "https://localhost:8080/"
        },
        "id": "Cbz7blMFRFZA",
        "outputId": "7dedfcca-e29c-4651-d94b-e1ff04765987"
      },
      "execution_count": null,
      "outputs": [
        {
          "output_type": "stream",
          "name": "stdout",
          "text": [
            "Done\n"
          ]
        }
      ]
    },
    {
      "cell_type": "markdown",
      "source": [
        "a)\n",
        "\n",
        "**Supervised Learning**: Given input features, target features, and training examples, predict the value of the target features for new examples given their value on the input features\n",
        "\n",
        "**Unsupervised Learning**: Learning classifications when the examples do not hvae targets defined. Clustering and dimensionality reduction are common techniques.\n",
        "\n",
        "**self-supervised learning**: This is a deep learning methodology where a model is pre-trained using unlabelled data. Labels are automatically generated from the unstructured input data. (e.g Face Detection, Signature Acknowledgement, Context Filling etc.)\n",
        "\n",
        "**Data splitting into training and testing**: Data is often split into two parts: a training set and a test set. The training set is used to train the model, and the test set is used to evaluate it.\n",
        "\n",
        "**Cross Validation**: This is a technique to evaluate the model performance. Data is divided into k folds. The model is trained using k-1 folds and test on the remaining fold. Repeat this process by k times with different test set each time. The average performance across the interations will provide a more robust evaluation.\n",
        "\n",
        "**Confusion Matrix**: It is a table that is used to evaluate the performance of classification models. It consists of the number of true positive(TP), true negative(TN), false positive(FP) and false negative(FN). It can provide a detailed performance beyond simple accuracy.\n",
        "\n",
        "**Accuracy for Model evaluation**: It is the ratio of the number of correct predictions to the total number of predictions.\n",
        "\n",
        "**Sensitivity for Model evaluation**: It is the ratio of correctly predicted positive observations to all actual positives. It indicates how well a machine learning model can detect positive instance.\n",
        "\n",
        "**Specificity for Model evaluation**: It is the ratio of correctly predicted negative observations to all actual negatives, which is represented by the total number of true negatives divided by the total number of actual negatives\n",
        "\n",
        "**Underfitting**: It is a scenario in data science where a data model is unable to capture the relationship between the input and output variables accurately, generating a high error rate on both the training set and unseen data. It occurs when a model is too simple to capture underlying patterns in the data, resulting in poor performance.\n",
        "\n",
        "**Overfitting**: It occurs when a statistical model fits exactly against its training data. When this happens, the algorithm unfortunately cannot perform accurately against unseen data.\n",
        "\n",
        "**Balanced and unbalanced datasets**: A balanced dataset has an approximately equal number of samples for each class, while an unbalanced dataset has high different number of samples for each class. Unbalanced datasets may lead to biased models as they might perform well on some classes but perform bad on other classes\n",
        "\n",
        "**Normalization vs standardization**: Normalization means rescaling features to a range of [0, 1] using the minimum and maximum values of the feature. Standardization means rescaling features to have a mean of 0 and a standard deviation of 1.\n",
        "\n",
        "**Neural networks**: It is a computational models inspired by the human brain's architecture. It consists of layers of interconnected neurons and are powerful for tasks like image and speech recognition. Training mainly focus on adjusting weights between neurons to minimize the error.\n",
        "\n",
        "**Large Language Models**: It is a model that aims to recognize and generate text, among other tasks. It is trained on huge sets of data to learn billions of parameters during training and consuming large computational resouces during the training and operation.\n",
        "\n"
      ],
      "metadata": {
        "id": "unRAgpy4OmAr"
      }
    },
    {
      "cell_type": "code",
      "source": [
        "#b)\n",
        "from sklearn.model_selection import train_test_split\n",
        "import pandas as pd\n",
        "import numpy as np\n",
        "def load_and_split_data(file_path):\n",
        "  df=pd.read_csv(file_path)\n",
        "  df=df.fillna(0)\n",
        "  y=df['Dataset']\n",
        "  X=df.drop(['Dataset'], axis=1)\n",
        "  X['Gender']=np.where(X['Gender']=='Male',1,0)\n",
        "  X_train, X_test, y_train, y_test = train_test_split(X, y, test_size=0.3)\n",
        "  return X_train, X_test, y_train, y_test\n",
        "\n",
        "filepath = 'indian_liver_patient.csv'\n",
        "X_train, X_test, y_train, y_test = load_and_split_data(filepath)\n",
        "#print(X_train)\n",
        "#print(X_test)\n",
        "#print(y_train)\n",
        "#print(y_test)"
      ],
      "metadata": {
        "id": "wAeuoWJRSIIZ"
      },
      "execution_count": null,
      "outputs": []
    },
    {
      "cell_type": "code",
      "source": [
        "#c)\n",
        "\n",
        "from sklearn import metrics\n",
        "from sklearn.linear_model import LogisticRegression\n",
        "from sklearn import preprocessing\n",
        "from sklearn import svm\n",
        "from sklearn import tree\n",
        "from sklearn.discriminant_analysis import LinearDiscriminantAnalysis\n",
        "#Logistic Regression\n",
        "#instantiate the model\n",
        "log_regression = LogisticRegression(max_iter=10000)\n",
        "# fit the model with data\n",
        "log_regression.fit(X_train, y_train)\n",
        "y_pred_log_train=log_regression.predict(X_train)\n",
        "y_pred_log_test=log_regression.predict(X_test)\n",
        "print(\"------------------Logistic Regression------------------\")\n",
        "print(\"Training accuracy for Logistic Regression:\",metrics.accuracy_score(y_train, y_pred_log_train))\n",
        "print(\"Test accuracy for Logistic Regression:\",metrics.accuracy_score(y_test, y_pred_log_test))\n",
        "\n",
        "#Support Vector Machine\n",
        "clf=svm.SVC()\n",
        "clf.fit(X_train, y_train)\n",
        "y_pred_svc_train=clf.predict(X_train)\n",
        "y_pred_svc_test=clf.predict(X_test)\n",
        "print(\"------------------Support Vector Machine------------------\")\n",
        "print(\"Training accuracy for SVM:\",metrics.accuracy_score(y_train, y_pred_svc_train))\n",
        "print(\"Test accuracy for SVM:\",metrics.accuracy_score(y_test, y_pred_svc_test))\n",
        "\n",
        "#DecisionTreeClassfier\n",
        "dt = tree.DecisionTreeClassifier()\n",
        "dt.fit(X_train,y_train)\n",
        "y_pred_dt_train=dt.predict(X_train)\n",
        "y_pred_dt_test=dt.predict(X_test)\n",
        "print(\"------------------DecisionTreeClassfier------------------\")\n",
        "print(\"Training accuracy for DecisionTreeClassifier:\",metrics.accuracy_score(y_train, y_pred_dt_train))\n",
        "print(\"Test accuracy for DecisionTreeClassifier:\",metrics.accuracy_score(y_test, y_pred_dt_test))\n",
        "\n",
        "#LDA Classifier\n",
        "lda=LinearDiscriminantAnalysis()\n",
        "lda.fit(X_train, y_train)\n",
        "y_pred_lda_train=lda.predict(X_train)\n",
        "y_pred_lda_test=lda.predict(X_test)\n",
        "print(\"------------------LDA Classfier------------------\")\n",
        "print(\"Training accuracy for LDA Classifier:\",metrics.accuracy_score(y_train, y_pred_lda_train))\n",
        "print(\"Test accuracy for LDA Classifier:\",metrics.accuracy_score(y_test, y_pred_lda_test))\n"
      ],
      "metadata": {
        "id": "z5WXBOAySJDy",
        "colab": {
          "base_uri": "https://localhost:8080/"
        },
        "outputId": "435860e5-3335-4afe-d64c-2bd30eccc282"
      },
      "execution_count": null,
      "outputs": [
        {
          "output_type": "stream",
          "name": "stdout",
          "text": [
            "------------------Logistic Regression------------------\n",
            "Training accuracy for Logistic Regression: 0.7205882352941176\n",
            "Test accuracy for Logistic Regression: 0.7028571428571428\n",
            "------------------Support Vector Machine------------------\n",
            "Training accuracy for SVM: 0.7230392156862745\n",
            "Test accuracy for SVM: 0.6914285714285714\n",
            "------------------DecisionTreeClassfier------------------\n",
            "Training accuracy for DecisionTreeClassifier: 1.0\n",
            "Test accuracy for DecisionTreeClassifier: 0.6628571428571428\n",
            "------------------LDA Classfier------------------\n",
            "Training accuracy for LDA Classifier: 0.7230392156862745\n",
            "Test accuracy for LDA Classifier: 0.6914285714285714\n"
          ]
        }
      ]
    },
    {
      "cell_type": "markdown",
      "source": [
        "d)\n",
        "## Table\n",
        "\n",
        "Model | Training Accuracy | Test Accuracy\n",
        "--- | --- | ---\n",
        "`Logistic Regression` | 0.7206 | 0.7029\n",
        "`Support Vector Machine` | 0.7230 | 0.6914\n",
        "`DecisionTreeClassfier` | 1.0 | 0.6629\n",
        "`LDA Classifier` | 0.7230 | 0.6914\n",
        "\n",
        "\n",
        "**Logistic Regression**: This is a linear model for binary classification. It predicts the probability by applying the sigmoid function to a linear combination of imput features.\n",
        "\n",
        "**Support Vector Machine**: SVM algorithm tries to find the optimal hyperlane in an N-dimensional space that can separate the data points in different classes in the feature space.\n",
        "\n",
        "**Decision Tree Classifier**: It is a tree structure where each internal node demotes the feature, branches denote the rules and the leaf nodes denote the result of the algorithm. It asks a series of questions and makes a decision based on the answer to those questions.\n",
        "\n",
        "**linear Discriminant Analysis Classifier**: It is a technique used to find a linear combination of features that best separates the classes in a dataset.  It reduces dimensionality while preserving as much of the class discriminatory information as possible.\n",
        "\n",
        "\n",
        "\n",
        "**Comparison**:\n",
        "\n",
        "For training accuracy, Decision Tree has the highest accuracy (=1), followed by LDA classifier, SVM and Logistic Regression.\n",
        "For Test accuracy, Logistic Regression has the highest accuracy, closely followed by LDA classifier, SVM and Decision Tree.\n",
        "\n",
        "\n",
        "\n",
        "**Recommendation**:\n",
        "\n",
        "From my point of view, I think Logistic Regression is the best as it has the highest test accuracy and relative high training accuracy.\n",
        "\n",
        "\n",
        "\n",
        "**Downsides of the other models**:\n",
        "\n",
        "**SVM**: It is sensitive to noise and outliers and it can be computationally expensive. The choice of the kernel function also affect the performance.\n",
        "\n",
        "**Decision Tree**: Decision Trees are prone to overfitting. Also, it can have high variance and a small change in the input data can lead to a different tree structure.\n",
        "\n",
        "**LDA Classifier**: It is sensitive to outliers and may not perform well for imbalanced classes as it might be biased towards the majority class.\n",
        "\n",
        "\n",
        "\n",
        "\n",
        "\n",
        "\n"
      ],
      "metadata": {
        "id": "SWb_WDAb849e"
      }
    },
    {
      "cell_type": "code",
      "source": [
        "#e)\n",
        "from sklearn.neighbors import KNeighborsClassifier\n",
        "from sklearn.model_selection import cross_validate\n",
        "import matplotlib.pyplot as plt\n",
        "k_values = [i for i in range (1,21)]\n",
        "def select_knn_model():\n",
        "  test_scores=[]\n",
        "  train_scores=[]\n",
        "  for i in k_values:\n",
        "    KNN=KNeighborsClassifier(n_neighbors=i)\n",
        "    scores=cross_validate(KNN, X_train, y_train, return_train_score=True)\n",
        "    test_scores.append(scores['test_score'].mean())\n",
        "    train_scores.append(scores['train_score'].mean())\n",
        "\n",
        "  return train_scores, test_scores\n",
        "\n",
        "knn=select_knn_model()\n",
        "training_accuracy=knn[0]\n",
        "validation_accuracy=knn[1]\n",
        "\n",
        "\n",
        "plt.xlabel(\"K Values\")\n",
        "plt.ylabel(\"Accuracy Score\")\n",
        "\n",
        "plt.plot(k_values, [x for x in training_accuracy], label='Train Accuracy')\n",
        "plt.plot(k_values, [x for x in validation_accuracy], label='Test Accuracy')\n",
        "plt.xticks(range(1,21))\n",
        "plt.legend()\n",
        "\n"
      ],
      "metadata": {
        "colab": {
          "base_uri": "https://localhost:8080/",
          "height": 466
        },
        "id": "JmHzPZKp9vG6",
        "outputId": "1066a0e2-2aee-4aaf-9332-e66ef956b568"
      },
      "execution_count": null,
      "outputs": [
        {
          "output_type": "execute_result",
          "data": {
            "text/plain": [
              "<matplotlib.legend.Legend at 0x7e69690e6ad0>"
            ]
          },
          "metadata": {},
          "execution_count": 61
        },
        {
          "output_type": "display_data",
          "data": {
            "text/plain": [
              "<Figure size 640x480 with 1 Axes>"
            ],
            "image/png": "[encoded data removed]"
          },
          "metadata": {}
        }
      ]
    },
    {
      "cell_type": "markdown",
      "source": [
        "e)\n",
        "\n",
        "The test accuracy is highest when k=18. I think this is because lower k captured more noise. As we can see, the accuracy became more smooth for k>14 and it reaches the peak at k=18."
      ],
      "metadata": {
        "id": "yJALJMOmrlOv"
      }
    },
    {
      "cell_type": "markdown",
      "source": [
        "f)\n",
        "\n",
        "This dataset is not balanced (416 liver patient records, 167 non liver patient records).\n",
        "\n",
        "There are several ways to enhance the training performance such as removing outliers, creating new features and hyperparameter tuning etc.\n",
        "\n",
        "Instead of looking at the overall accuracy, we could focus on the sensitivity and specificity evaluate the performance of unbalanced datasets. If we want to balance it, we could adjust the number of positive and negative cases to roughly the same. For example, we could add 250 more liver patient records or reduce the liver patient records to 170."
      ],
      "metadata": {
        "id": "ho4zzjZe4OzC"
      }
    },
    {
      "cell_type": "code",
      "source": [
        "#g)\n",
        "from sklearn.inspection import permutation_importance\n",
        "df=pd.read_csv('indian_liver_patient.csv')\n",
        "\n",
        "for col in df.columns:\n",
        "  features_name.append(col)\n",
        "features_name.pop()\n",
        "\n",
        "\n",
        "#Logistic Regression\n",
        "logr_importance=permutation_importance(log_regression, X_train, y_train, n_repeats=10, random_state=0)\n",
        "#plt.errorbar(range(1, 11), logr_importance.importances_mean, logr_importance.importances_std, linestyle='None')\n",
        "sort_index_logr = np.argsort(logr_importance.importances_mean)\n",
        "sort_index_logr=np.flip(sort_index_logr)\n",
        "\n",
        "logr_top_three_feature=[]\n",
        "for i in range(0, 3):\n",
        "  logr_top_three_feature.append(features_name[sort_index_logr[i]])\n",
        "print(\"Top 3 features for Logistic Regression is \", logr_top_three_feature)\n",
        "\n",
        "#SVM\n",
        "SVM_importance=permutation_importance(clf, X_train, y_train, n_repeats=10, random_state=0)\n",
        "sort_index_SVM = np.argsort(SVM_importance.importances_mean)\n",
        "sort_index_SVM=np.flip(sort_index_SVM)\n",
        "SVM_top_three_feature=[]\n",
        "for i in range(0, 3):\n",
        "  SVM_top_three_feature.append(features_name[sort_index_SVM[i]])\n",
        "print(\"Top 3 features for SVM is \", SVM_top_three_feature)\n",
        "\n",
        "#DecisionTreeClassifier\n",
        "dt_importance=permutation_importance(dt, X_train, y_train, n_repeats=10, random_state=0)\n",
        "sort_index_dt = np.argsort(dt_importance.importances_mean)\n",
        "sort_index_dt=np.flip(sort_index_dt)\n",
        "dt_top_three_feature=[]\n",
        "for i in range(0, 3):\n",
        "  dt_top_three_feature.append(features_name[sort_index_dt[i]])\n",
        "print(\"Top 3 features for DecisionTreeClassifier is \", dt_top_three_feature)\n",
        "\n",
        "#LDA Classifier\n",
        "lda_importance=permutation_importance(lda, X_train, y_train, n_repeats=10, random_state=0)\n",
        "sort_index_lda = np.argsort(lda_importance.importances_mean)\n",
        "sort_index_lda=np.flip(sort_index_lda)\n",
        "lda_top_three_feature=[]\n",
        "for i in range(0, 3):\n",
        "  lda_top_three_feature.append(features_name[sort_index_lda[i]])\n",
        "print(\"Top 3 features for LDA Classifier is \", lda_top_three_feature)"
      ],
      "metadata": {
        "colab": {
          "base_uri": "https://localhost:8080/"
        },
        "id": "GnR8lKQD_41j",
        "outputId": "a4ef60f9-4412-4508-e5e3-37c01ecfa57a"
      },
      "execution_count": null,
      "outputs": [
        {
          "output_type": "stream",
          "name": "stdout",
          "text": [
            "Top 3 features for Logistic Regression is  ['Albumin', 'Total_Protiens', 'Age']\n",
            "Top 3 features for SVM is  ['Age', 'Albumin', 'Total_Protiens']\n",
            "Top 3 features for DecisionTreeClassifier is  ['Total_Bilirubin', 'Direct_Bilirubin', 'Alkaline_Phosphotase']\n",
            "Top 3 features for LDA Classifier is  ['Albumin', 'Total_Protiens', 'Aspartate_Aminotransferase']\n"
          ]
        }
      ]
    },
    {
      "cell_type": "markdown",
      "source": [
        "g)\n",
        "\n",
        "Those classifiers do not agree on which features are important due to algorithm differences. hyperparameter settings, different objective functions and differences in noise and overfitting issue."
      ],
      "metadata": {
        "id": "lLLmKOjprFlP"
      }
    }
  ]
}